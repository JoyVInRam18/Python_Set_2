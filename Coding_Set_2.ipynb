{
 "cells": [
  {
   "cell_type": "code",
   "execution_count": null,
   "id": "61877ccb-a4fe-4344-bdd7-b8419bdc2354",
   "metadata": {},
   "outputs": [],
   "source": [
    "#Write a Python program to find the reverse of a string. Expected Output (for input \"hello\"):\n",
    "#olleh"
   ]
  },
  {
   "cell_type": "code",
   "execution_count": 1,
   "id": "ddb45af9-1b74-4556-8fe0-706bb107286a",
   "metadata": {},
   "outputs": [
    {
     "name": "stdout",
     "output_type": "stream",
     "text": [
      "Reversed String: olleh\n"
     ]
    }
   ],
   "source": [
    "def reverse_string(s):\n",
    "    return s[::-1]  # Using slicing to reverse the string\n",
    "\n",
    "# Example usage\n",
    "input_string = \"hello\"\n",
    "reversed_string = reverse_string(input_string)\n",
    "print(\"Reversed String:\", reversed_string)\n"
   ]
  },
  {
   "cell_type": "code",
   "execution_count": null,
   "id": "89217103-7345-431d-abc1-9f9c77d86943",
   "metadata": {},
   "outputs": [],
   "source": [
    "#.Write a Python program to generate the Fibonacci sequence up to 10 terms.\n",
    "#Expected Output:\n",
    "#0 1 1 2 3 5 8 13 21 34"
   ]
  },
  {
   "cell_type": "code",
   "execution_count": 2,
   "id": "f7245721-1625-4041-b5b9-8090b56e0b1a",
   "metadata": {},
   "outputs": [
    {
     "name": "stdout",
     "output_type": "stream",
     "text": [
      "0 1 1 2 3 5 8 13 21 34\n"
     ]
    }
   ],
   "source": [
    "# Function to generate Fibonacci sequence up to n terms\n",
    "def fibonacci(n):\n",
    "    sequence = [0, 1]  # Starting elements\n",
    "    for i in range(2, n):\n",
    "        sequence.append(sequence[i-1] + sequence[i-2])\n",
    "    return sequence\n",
    "\n",
    "# Define number of terms\n",
    "num_terms = 10\n",
    "\n",
    "# Generate and print the Fibonacci sequence\n",
    "fib_sequence = fibonacci(num_terms)\n",
    "print(\" \".join(map(str, fib_sequence)))\n"
   ]
  },
  {
   "cell_type": "code",
   "execution_count": null,
   "id": "e85502a8-e7ca-4187-9b1d-7d945678de52",
   "metadata": {},
   "outputs": [],
   "source": [
    "#Write a Python function to check if a given string is a palindrome.\n",
    "#Expected Output (for input \"madam\"):\n",
    "#madam is a palindrome\n"
   ]
  },
  {
   "cell_type": "code",
   "execution_count": 3,
   "id": "a874db56-42a5-42e3-93e5-f0b190fae697",
   "metadata": {},
   "outputs": [
    {
     "name": "stdout",
     "output_type": "stream",
     "text": [
      "madam is a palindrome\n"
     ]
    }
   ],
   "source": [
    "def is_palindrome(s):\n",
    "    # Convert the string to lowercase to make the check case insensitive\n",
    "    s = s.lower()\n",
    "    \n",
    "    # Compare the string with its reverse\n",
    "    if s == s[::-1]:\n",
    "        return f\"{s} is a palindrome\"\n",
    "    else:\n",
    "        return f\"{s} is not a palindrome\"\n",
    "\n",
    "# Example usage\n",
    "input_string = \"madam\"\n",
    "print(is_palindrome(input_string))\n"
   ]
  },
  {
   "cell_type": "code",
   "execution_count": null,
   "id": "6c3751f5-36a8-448f-8391-7ac601632fda",
   "metadata": {},
   "outputs": [],
   "source": [
    "#Write a Python program to count the number of vowels in a given string. \n",
    "#Expected Output (for input \"education\"):\n",
    "#Number of vowels: 5"
   ]
  },
  {
   "cell_type": "code",
   "execution_count": 4,
   "id": "8746824b-1505-47c8-895e-0212364045ae",
   "metadata": {},
   "outputs": [
    {
     "name": "stdout",
     "output_type": "stream",
     "text": [
      "Number of vowels: 5\n"
     ]
    }
   ],
   "source": [
    "def count_vowels(s):\n",
    "    vowels = \"aeiouAEIOU\"\n",
    "    count = sum(1 for char in s if char in vowels)\n",
    "    return count\n",
    "\n",
    "# Example usage\n",
    "input_string = \"education\"\n",
    "print(f\"Number of vowels: {count_vowels(input_string)}\")\n"
   ]
  },
  {
   "cell_type": "code",
   "execution_count": null,
   "id": "a523875e-2f94-4266-a84a-8d1684eb0d29",
   "metadata": {},
   "outputs": [],
   "source": [
    "#Write a Python program to remove duplicates from a list.\n",
    "#Expected Output (for input [1, 2, 2, 3, 4, 4, 5]):\n",
    "\n",
    " #[1, 2, 3, 4, 5]"
   ]
  },
  {
   "cell_type": "code",
   "execution_count": 5,
   "id": "45574937-d027-42b9-9780-3f52ebb3fe46",
   "metadata": {},
   "outputs": [
    {
     "name": "stdout",
     "output_type": "stream",
     "text": [
      "[1, 2, 3, 4, 5]\n"
     ]
    }
   ],
   "source": [
    "def remove_duplicates(lst):\n",
    "    return list(set(lst))\n",
    "\n",
    "# Example usage\n",
    "input_list = [1, 2, 2, 3, 4, 4, 5]\n",
    "output_list = remove_duplicates(input_list)\n",
    "print(output_list)\n"
   ]
  },
  {
   "cell_type": "code",
   "execution_count": null,
   "id": "5890a0ac-baeb-4919-a49a-3e8222c5660e",
   "metadata": {},
   "outputs": [],
   "source": []
  }
 ],
 "metadata": {
  "kernelspec": {
   "display_name": "Python [conda env:base] *",
   "language": "python",
   "name": "conda-base-py"
  },
  "language_info": {
   "codemirror_mode": {
    "name": "ipython",
    "version": 3
   },
   "file_extension": ".py",
   "mimetype": "text/x-python",
   "name": "python",
   "nbconvert_exporter": "python",
   "pygments_lexer": "ipython3",
   "version": "3.12.7"
  }
 },
 "nbformat": 4,
 "nbformat_minor": 5
}
