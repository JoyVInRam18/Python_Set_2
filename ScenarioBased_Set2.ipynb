{
 "cells": [
  {
   "cell_type": "code",
   "execution_count": null,
   "id": "0c44b2a4-0bb8-467a-8641-092bd2683fcb",
   "metadata": {},
   "outputs": [],
   "source": [
    "#1.Scenario: You are developing a banking application that categorizes transactions based on the amount entered.\n",
    "#Write logic to determine whether the amount is positive, negative, or zero.\n"
   ]
  },
  {
   "cell_type": "code",
   "execution_count": 19,
   "id": "b9c3f0ae-78ed-4aa1-85dd-0989bd7d307f",
   "metadata": {},
   "outputs": [
    {
     "name": "stdin",
     "output_type": "stream",
     "text": [
      "Enter a number:  0\n"
     ]
    },
    {
     "name": "stdout",
     "output_type": "stream",
     "text": [
      "Zero (No Transaction)\n"
     ]
    }
   ],
   "source": [
    "# Read the input number\n",
    "num = float(input(\"Enter a number: \"))\n",
    "\n",
    "# Check the value and print the corresponding message\n",
    "if num > 0:\n",
    "    print(\"Positive (Deposit)\")\n",
    "elif num < 0:\n",
    "    print(\"Negative (Withdrawal)\")\n",
    "else:\n",
    "    print(\"Zero (No Transaction)\")"
   ]
  },
  {
   "cell_type": "code",
   "execution_count": null,
   "id": "e368a5fe-d1fb-4bdf-bc07-9a0aa5c8e2e2",
   "metadata": {},
   "outputs": [],
   "source": [
    "#A digital locker requires users to enter a numerical passcode.\n",
    "#As part of a security feature, the system checks the sum of the digits of the passcode.\n",
    "#Write logic to compute the sum of the digits of a given number."
   ]
  },
  {
   "cell_type": "code",
   "execution_count": 20,
   "id": "cae0d6e1-85f9-4fd7-bc98-962d3a377020",
   "metadata": {},
   "outputs": [
    {
     "name": "stdin",
     "output_type": "stream",
     "text": [
      "Enter a number:  16\n"
     ]
    },
    {
     "name": "stdout",
     "output_type": "stream",
     "text": [
      "Sum of digits: 7\n"
     ]
    }
   ],
   "source": [
    "# Read the input number\n",
    "number = input(\"Enter a number: \")\n",
    "\n",
    "# Initialize sum variable\n",
    "sum_of_digits = 0\n",
    "\n",
    "# Convert number into individual digits and add them to the sum\n",
    "for digit in number:\n",
    "    sum_of_digits += int(digit)\n",
    "\n",
    "# Print the sum of the digits\n",
    "print(\"Sum of digits:\", sum_of_digits)\n"
   ]
  },
  {
   "cell_type": "code",
   "execution_count": null,
   "id": "e1493083-8dd2-4a25-bf2b-b519e13c0cf9",
   "metadata": {},
   "outputs": [],
   "source": [
    "#A mobile payment app uses a simple checksum validation where reversing a transaction ID helps detect fraud.\n",
    "#Write logic to take a number and return its reverse."
   ]
  },
  {
   "cell_type": "code",
   "execution_count": 22,
   "id": "cdb8e320-a668-4432-b9d8-db532cbc14d7",
   "metadata": {},
   "outputs": [
    {
     "name": "stdin",
     "output_type": "stream",
     "text": [
      "Enter a number:  98765\n"
     ]
    },
    {
     "name": "stdout",
     "output_type": "stream",
     "text": [
      "Reversed number: 56789\n"
     ]
    }
   ],
   "source": [
    "# Read the input number\n",
    "num = int(input(\"Enter a number: \"))\n",
    "\n",
    "# Convert the number into a string and reverse it\n",
    "reversed_num = int(str(num)[::-1])\n",
    "\n",
    "# Print the reversed number\n",
    "print(\"Reversed number:\", reversed_num)\n"
   ]
  },
  {
   "cell_type": "code",
   "execution_count": null,
   "id": "406f5608-8a02-4054-86c9-ec5219933aac",
   "metadata": {},
   "outputs": [],
   "source": [
    "#In a secure login system, certain features are enabled only for users with prime-numbered user IDs.\n",
    "#Write logic to check if a given number is prime."
   ]
  },
  {
   "cell_type": "code",
   "execution_count": 23,
   "id": "04fd14b1-8e07-45c6-853b-ef2774821cf3",
   "metadata": {},
   "outputs": [
    {
     "name": "stdin",
     "output_type": "stream",
     "text": [
      "Enter a number:  9\n"
     ]
    },
    {
     "name": "stdout",
     "output_type": "stream",
     "text": [
      "Not Prime\n"
     ]
    }
   ],
   "source": [
    "import math\n",
    "\n",
    "# Read the input number\n",
    "num = int(input(\"Enter a number: \"))\n",
    "\n",
    "# Check if the number is less than 2\n",
    "if num < 2:\n",
    "    print(\"Not Prime\")\n",
    "else:\n",
    "    # Loop from 2 to the square root of the number\n",
    "    for i in range(2, int(math.sqrt(num)) + 1):\n",
    "        if num % i == 0:\n",
    "            print(\"Not Prime\")\n",
    "            break\n",
    "    else:\n",
    "        print(\"Prime\")\n",
    "\n"
   ]
  },
  {
   "cell_type": "code",
   "execution_count": null,
   "id": "7dc02a7e-e16c-4468-a781-1d1e7147ea83",
   "metadata": {},
   "outputs": [],
   "source": [
    "#A scientist is working on permutations and needs to calculate the factorial of numbers frequently.\n",
    "#Write logic to find the factorial of a given number using recursion."
   ]
  },
  {
   "cell_type": "code",
   "execution_count": 24,
   "id": "d38ed085-9c29-44b0-95ea-a846e444b6fe",
   "metadata": {},
   "outputs": [
    {
     "name": "stdin",
     "output_type": "stream",
     "text": [
      "Enter a number:  5\n"
     ]
    },
    {
     "name": "stdout",
     "output_type": "stream",
     "text": [
      "Factorial of 5 is 120\n"
     ]
    }
   ],
   "source": [
    "def factorial(n):\n",
    "    if n == 0 or n == 1:\n",
    "        return 1\n",
    "    else:\n",
    "        return n * factorial(n - 1)\n",
    "\n",
    "# Read input from user\n",
    "num = int(input(\"Enter a number: \"))\n",
    "\n",
    "# Compute and print factorial\n",
    "print(\"Factorial of\", num, \"is\", factorial(num))\n"
   ]
  },
  {
   "cell_type": "code",
   "execution_count": null,
   "id": "4119236a-726f-4450-bd7a-9d58a934b3e2",
   "metadata": {},
   "outputs": [],
   "source": [
    "#A unique lottery system assigns ticket numbers where only Armstrong numbers win the jackpot.\n",
    "#Write logic to check whether a given number is an Armstrong number."
   ]
  },
  {
   "cell_type": "code",
   "execution_count": 25,
   "id": "1025d627-eceb-4e4d-896d-3fd97ac0737b",
   "metadata": {},
   "outputs": [
    {
     "name": "stdin",
     "output_type": "stream",
     "text": [
      "Enter a number:  8\n"
     ]
    },
    {
     "name": "stdout",
     "output_type": "stream",
     "text": [
      "Armstrong Number\n"
     ]
    }
   ],
   "source": [
    "# Function to check if a number is an Armstrong number\n",
    "def is_armstrong_number(num):\n",
    "    num_str = str(num)  # Convert number to string to iterate over digits\n",
    "    num_digits = len(num_str)  # Count the number of digits\n",
    "    total_sum = sum(int(digit) ** num_digits for digit in num_str)  # Compute sum of powered digits\n",
    "    \n",
    "    return total_sum == num  # Return True if Armstrong number, else False\n",
    "\n",
    "# Read input from the user\n",
    "num = int(input(\"Enter a number: \"))\n",
    "\n",
    "# Check and print result\n",
    "if is_armstrong_number(num):\n",
    "    print(\"Armstrong Number\")\n",
    "else:\n",
    "    print(\"Not an Armstrong Number\")\n"
   ]
  },
  {
   "cell_type": "code",
   "execution_count": null,
   "id": "face8d5b-571a-47e2-8f3e-a6797c2d8b54",
   "metadata": {},
   "outputs": [],
   "source": [
    "#A password manager needs to strengthen weak passwords by swapping the first and last characters of user-generated passwords.\n",
    "#Write logic to perform this operation on a given string."
   ]
  },
  {
   "cell_type": "code",
   "execution_count": 26,
   "id": "d7de3f4d-3f33-40aa-b4fc-425b9450f0f1",
   "metadata": {},
   "outputs": [
    {
     "name": "stdin",
     "output_type": "stream",
     "text": [
      "Enter a string:  princy\n"
     ]
    },
    {
     "name": "stdout",
     "output_type": "stream",
     "text": [
      "yrincp\n"
     ]
    }
   ],
   "source": [
    "def modify_string(s):\n",
    "    if len(s) < 2:\n",
    "        print(s)\n",
    "    else:\n",
    "        modified_s = s[-1] + s[1:-1] + s[0]\n",
    "        print(modified_s)\n",
    "\n",
    "# Example usage\n",
    "input_string = input(\"Enter a string: \")\n",
    "modify_string(input_string)\n",
    "\n"
   ]
  },
  {
   "cell_type": "code",
   "execution_count": null,
   "id": "3e7e747b-5c5d-4542-99a5-b2b0e11f0f46",
   "metadata": {},
   "outputs": [],
   "source": [
    "#A low-level networking application requires decimal numbers to be converted into binary format before transmission.\n",
    "#Write logic to convert a given decimal number into its binary equivalent."
   ]
  },
  {
   "cell_type": "code",
   "execution_count": 27,
   "id": "3eae143d-5001-481f-b958-3eed159b5866",
   "metadata": {},
   "outputs": [
    {
     "name": "stdin",
     "output_type": "stream",
     "text": [
      "Enter a decimal number:  8\n"
     ]
    },
    {
     "name": "stdout",
     "output_type": "stream",
     "text": [
      "Binary representation: 1000\n"
     ]
    }
   ],
   "source": [
    "def decimal_to_binary(n):\n",
    "    binary = \"\"  # Initialize an empty string for binary representation\n",
    "    while n > 0:\n",
    "        remainder = n % 2  # Get the remainder when dividing by 2\n",
    "        binary = str(remainder) + binary  # Add remainder to the binary string\n",
    "        n = n // 2  # Update the number by dividing it by 2\n",
    "    return binary\n",
    "\n",
    "# Example usage\n",
    "decimal_number = int(input(\"Enter a decimal number: \"))\n",
    "binary_representation = decimal_to_binary(decimal_number)\n",
    "print(f\"Binary representation: {binary_representation}\")\n"
   ]
  },
  {
   "cell_type": "code",
   "execution_count": null,
   "id": "4140ad54-5eae-41ec-85f0-fe8911f06734",
   "metadata": {},
   "outputs": [],
   "source": [
    "#A text-processing tool helps summarize articles by identifying the most significant words.\n",
    "#Write logic to find the longest word in a sentence."
   ]
  },
  {
   "cell_type": "code",
   "execution_count": 28,
   "id": "b1aed975-eaf3-4842-9123-033d05bbaa2a",
   "metadata": {},
   "outputs": [
    {
     "name": "stdin",
     "output_type": "stream",
     "text": [
      "Enter a sentence:  I appreciate your work\n"
     ]
    },
    {
     "name": "stdout",
     "output_type": "stream",
     "text": [
      "The longest word is: appreciate\n"
     ]
    }
   ],
   "source": [
    "# Read the input sentence\n",
    "sentence = input(\"Enter a sentence: \")\n",
    "\n",
    "# Split the sentence into individual words\n",
    "words = sentence.split()\n",
    "\n",
    "# Initialize a variable to store the longest word\n",
    "longest_word = \"\"\n",
    "\n",
    "# Loop through each word\n",
    "for word in words:\n",
    "    if len(word) > len(longest_word):\n",
    "        longest_word = word  # Update the longest word\n",
    "\n",
    "# Print the longest word\n",
    "print(\"The longest word is:\", longest_word)\n",
    "\n"
   ]
  },
  {
   "cell_type": "code",
   "execution_count": null,
   "id": "d6b9ce6e-f2c2-4f32-9907-d80afeeee7d7",
   "metadata": {},
   "outputs": [],
   "source": [
    "#A plagiarism detection tool compares words from different documents and checks if they are anagrams (same characters but different order).\n",
    "#Write logic to check whether two given strings are anagrams"
   ]
  },
  {
   "cell_type": "code",
   "execution_count": 29,
   "id": "d256578f-718c-4946-8f81-08d0bda728ad",
   "metadata": {},
   "outputs": [
    {
     "name": "stdin",
     "output_type": "stream",
     "text": [
      "Enter first string:  jesus\n",
      "Enter second string:  Comes\n"
     ]
    },
    {
     "name": "stdout",
     "output_type": "stream",
     "text": [
      "Not an Anagram\n"
     ]
    }
   ],
   "source": [
    "def is_anagram(str1, str2):\n",
    "    # Remove spaces and convert to lowercase\n",
    "    str1 = str1.replace(\" \", \"\").lower()\n",
    "    str2 = str2.replace(\" \", \"\").lower()\n",
    "    \n",
    "    # Sort characters and compare\n",
    "    if sorted(str1) == sorted(str2):\n",
    "        print(\"Anagram\")\n",
    "    else:\n",
    "        print(\"Not an Anagram\")\n",
    "\n",
    "# Example usage\n",
    "string1 = input(\"Enter first string: \")\n",
    "string2 = input(\"Enter second string: \")\n",
    "\n",
    "is_anagram(string1, string2)\n"
   ]
  },
  {
   "cell_type": "code",
   "execution_count": null,
   "id": "a2927997-8201-481c-a7a1-585b7c2d33b1",
   "metadata": {},
   "outputs": [],
   "source": []
  }
 ],
 "metadata": {
  "kernelspec": {
   "display_name": "Python [conda env:base] *",
   "language": "python",
   "name": "conda-base-py"
  },
  "language_info": {
   "codemirror_mode": {
    "name": "ipython",
    "version": 3
   },
   "file_extension": ".py",
   "mimetype": "text/x-python",
   "name": "python",
   "nbconvert_exporter": "python",
   "pygments_lexer": "ipython3",
   "version": "3.12.7"
  }
 },
 "nbformat": 4,
 "nbformat_minor": 5
}
